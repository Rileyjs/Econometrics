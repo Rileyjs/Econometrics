{
 "cells": [
  {
   "cell_type": "code",
<<<<<<< HEAD
   "execution_count": 3,
   "metadata": {},
   "outputs": [],
   "source": [
    "# Libraries being used\n",
    "''' To install new libraries all install commands should bei n the anaconda terminal.\n",
    "Open Anaconda Prompt -> type: activate projectName -> then the install command (pip or conda)'''\n",
    "import pandas\n",
    "# pip install fredapi\n",
    "from fredapi import Fred"
   ]
  },
  {
   "cell_type": "code",
   "execution_count": 4,
=======
   "execution_count": 1,
>>>>>>> 39bf94b1affcbfb554bef4a54480d24523aba195
   "metadata": {},
   "outputs": [
    {
     "name": "stdout",
     "output_type": "stream",
     "text": [
      "Super cool paper stuff goes here\n"
     ]
    }
   ],
   "source": [
    "# Loading Data sets\n",
    "fred = Fred(api_key=\"29ace72ad136847f37a6618fda6fdc75\")\n",
    "data = fred.get_series('SP500')"
   ]
  },
  {
   "cell_type": "code",
   "execution_count": 5,
   "metadata": {},
   "outputs": [
    {
     "name": "stdout",
     "output_type": "stream",
     "text": [
      "2009-02-23     743.33\n",
      "2009-02-24     773.14\n",
      "2009-02-25     764.90\n",
      "2009-02-26     752.83\n",
      "2009-02-27     735.09\n",
      "2009-03-02     700.82\n",
      "2009-03-03     696.33\n",
      "2009-03-04     712.87\n",
      "2009-03-05     682.55\n",
      "2009-03-06     683.38\n",
      "2009-03-09     676.53\n",
      "2009-03-10     719.60\n",
      "2009-03-11     721.36\n",
      "2009-03-12     750.74\n",
      "2009-03-13     756.55\n",
      "2009-03-16     753.89\n",
      "2009-03-17     778.12\n",
      "2009-03-18     794.35\n",
      "2009-03-19     784.04\n",
      "2009-03-20     768.54\n",
      "2009-03-23     822.92\n",
      "2009-03-24     806.12\n",
      "2009-03-25     813.88\n",
      "2009-03-26     832.86\n",
      "2009-03-27     815.94\n",
      "2009-03-30     787.53\n",
      "2009-03-31     797.87\n",
      "2009-04-01     811.08\n",
      "2009-04-02     834.38\n",
      "2009-04-03     842.50\n",
      "               ...   \n",
      "2019-01-14    2582.61\n",
      "2019-01-15    2610.30\n",
      "2019-01-16    2616.10\n",
      "2019-01-17    2635.96\n",
      "2019-01-18    2670.71\n",
      "2019-01-21        NaN\n",
      "2019-01-22    2632.90\n",
      "2019-01-23    2638.70\n",
      "2019-01-24    2642.33\n",
      "2019-01-25    2664.76\n",
      "2019-01-28    2643.85\n",
      "2019-01-29    2640.00\n",
      "2019-01-30    2681.05\n",
      "2019-01-31    2704.10\n",
      "2019-02-01    2706.53\n",
      "2019-02-04    2724.87\n",
      "2019-02-05    2737.70\n",
      "2019-02-06    2731.61\n",
      "2019-02-07    2706.05\n",
      "2019-02-08    2707.88\n",
      "2019-02-11    2709.80\n",
      "2019-02-12    2744.73\n",
      "2019-02-13    2753.03\n",
      "2019-02-14    2745.73\n",
      "2019-02-15    2775.60\n",
      "2019-02-18        NaN\n",
      "2019-02-19    2779.76\n",
      "2019-02-20    2784.70\n",
      "2019-02-21    2774.88\n",
      "2019-02-22    2792.67\n",
      "Length: 2610, dtype: float64\n"
     ]
    }
   ],
   "source": [
    "print(data)"
   ]
  },
  {
   "cell_type": "code",
<<<<<<< HEAD
   "execution_count": null,
   "metadata": {},
   "outputs": [],
   "source": []
=======
   "execution_count": 2,
   "metadata": {},
   "outputs": [
    {
     "name": "stdout",
     "output_type": "stream",
     "text": [
      "But there's also some stuff that's not so cool and that's kinda a bummer but it helps us appreciate the cool stuff better\n"
     ]
    }
   ],
   "source": [
    "print(\"But there's also some stuff that's not so cool and that's kinda a bummer but it helps us appreciate the cool stuff better\")"
   ]
>>>>>>> 39bf94b1affcbfb554bef4a54480d24523aba195
  }
 ],
 "metadata": {
  "kernelspec": {
   "display_name": "Python 3",
   "language": "python",
   "name": "python3"
  },
  "language_info": {
   "codemirror_mode": {
    "name": "ipython",
    "version": 3
   },
   "file_extension": ".py",
   "mimetype": "text/x-python",
   "name": "python",
   "nbconvert_exporter": "python",
   "pygments_lexer": "ipython3",
   "version": "3.7.2"
  }
 },
 "nbformat": 4,
 "nbformat_minor": 2
}