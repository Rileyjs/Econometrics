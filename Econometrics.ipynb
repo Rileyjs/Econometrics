{
 "cells": [
  {
   "cell_type": "code",
   "execution_count": 13,
   "metadata": {},
   "outputs": [
    {
     "ename": "ModuleNotFoundError",
     "evalue": "No module named 'matplotlib'",
     "output_type": "error",
     "traceback": [
      "\u001b[1;31m---------------------------------------------------------------------------\u001b[0m",
      "\u001b[1;31mModuleNotFoundError\u001b[0m                       Traceback (most recent call last)",
      "\u001b[1;32m<ipython-input-13-b7726c69d127>\u001b[0m in \u001b[0;36m<module>\u001b[1;34m\u001b[0m\n\u001b[0;32m      4\u001b[0m     \"Open Anaconda Prompt -> type: activate projectName -> then the install command (pip or conda)'''\n\u001b[0;32m      5\u001b[0m \u001b[1;32mimport\u001b[0m \u001b[0mpandas\u001b[0m \u001b[1;32mas\u001b[0m \u001b[0mpd\u001b[0m\u001b[1;33m\u001b[0m\u001b[0m\n\u001b[1;32m----> 6\u001b[1;33m \u001b[1;32mimport\u001b[0m \u001b[0mmatplotlib\u001b[0m\u001b[1;33m\u001b[0m\u001b[0m\n\u001b[0m\u001b[0;32m      7\u001b[0m \u001b[1;32mimport\u001b[0m \u001b[0mscikit\u001b[0m\u001b[1;33m\u001b[0m\u001b[0m\n\u001b[0;32m      8\u001b[0m \u001b[1;32mimport\u001b[0m \u001b[0mos\u001b[0m\u001b[1;33m\u001b[0m\u001b[0m\n",
      "\u001b[1;31mModuleNotFoundError\u001b[0m: No module named 'matplotlib'"
     ]
    }
   ],
   "source": [
    "# Libraries\n",
    "# Libraries being used\\n\",\n",
    "''' To install new libraries all install commands should bei n the anaconda terminal.\n",
    "    \"Open Anaconda Prompt -> type: activate projectName -> then the install command (pip or conda)'''\n",
    "import pandas as pd\n",
    "import scikit\n",
    "import os\n",
    "# pip install fredapi\n",
    "# https://github.com/mortada/fredapi documentation\n",
    "from fredapi import Fred"
   ]
  },
  {
   "cell_type": "code",
   "execution_count": 55,
   "metadata": {},
   "outputs": [
    {
     "name": "stdout",
     "output_type": "stream",
     "text": [
      "<class 'pandas.core.frame.DataFrame'>\n",
      "RangeIndex: 235 entries, 0 to 234\n",
      "Columns: 333 entries, datestr to GDPC1_20190101logdifference\n",
      "dtypes: float64(328), int64(2), object(3)\n",
      "memory usage: 611.4+ KB\n"
     ]
    }
   ],
   "source": [
    "# Loading Data sets\n",
    "df = pd.read_csv(os.path.join(\"data\", \"Log Differences GDPC1.csv\"))\n",
    "df.info()"
   ]
  },
  {
   "cell_type": "code",
   "execution_count": 56,
   "metadata": {},
   "outputs": [
    {
     "name": "stdout",
     "output_type": "stream",
     "text": [
      "<class 'pandas.core.frame.DataFrame'>\n",
      "RangeIndex: 235 entries, 0 to 234\n",
      "Columns: 323 entries, datestr to GDPC1_20190101logdifference\n",
      "dtypes: float64(318), int64(2), object(3)\n",
      "memory usage: 593.1+ KB\n"
     ]
    }
   ],
   "source": [
    "# Stripping down douplicate columns\n",
    "column_counts = {}\n",
    "for column_name in df.columns:\n",
    "    if column_name[:-15] in column_counts:\n",
    "        column_counts[column_name[:-15]].append(column_name)\n",
    "    else:\n",
    "        column_counts[column_name[:-15]] = [column_name]\n",
    "        \n",
    "duplicates = []\n",
    "for column_name in column_counts:\n",
    "    if len(column_counts[column_name]) > 1:\n",
    "        duplicates.append(column_counts[column_name])\n",
    "\n",
    "# First index always has non-time series columns\n",
    "for i in duplicates[1:]:\n",
    "    for key in i[:-1]:\n",
    "        df.drop(key, axis=\"columns\", inplace=True)\n",
    "        \n",
    "df.info()"
   ]
  },
  {
   "cell_type": "code",
   "execution_count": 57,
   "metadata": {},
   "outputs": [
    {
     "name": "stdout",
     "output_type": "stream",
     "text": [
      "Index(['datestr', 'daten', 'newyq', 'Year', 'qrt', 'GDPC1_199112',\n",
      "       'GDPC1_199201', 'GDPC1_199202', 'GDPC1_199203', 'GDPC1_199204',\n",
      "       ...\n",
      "       'GDPC1_201804', 'GDPC1_201805', 'GDPC1_201806', 'GDPC1_201807',\n",
      "       'GDPC1_201808', 'GDPC1_201809', 'GDPC1_201810', 'GDPC1_201811',\n",
      "       'GDPC1_201812', 'GDPC1_201901'],\n",
      "      dtype='object', length=323)\n",
      "<class 'pandas.core.frame.DataFrame'>\n",
      "RangeIndex: 235 entries, 0 to 234\n",
      "Columns: 323 entries, datestr to GDPC1_201901\n",
      "dtypes: float64(318), int64(2), object(3)\n",
      "memory usage: 593.1+ KB\n"
     ]
    }
   ],
   "source": [
    "# Trimming all column names (removing day and string logdifference)\n",
    "df = df.rename(columns = {original:original[:-15] for original in df.columns if \"GDP\" in original})\n",
    "\n",
    "print(df.columns)\n",
    "df.info()"
   ]
  },
  {
   "cell_type": "code",
   "execution_count": 61,
   "metadata": {},
   "outputs": [],
   "source": [
    "# Save all data sets\n",
    "df.to_csv(os.path.join(\"data\", \"Cleaned_log_diff_GDP.csv\"))"
   ]
  },
  {
   "cell_type": "code",
   "execution_count": 84,
   "metadata": {},
   "outputs": [
    {
     "data": {
      "text/plain": [
       "Index(['1960-01-01', '1960-02-01', '1960-03-01', '1960-04-01', '1960-05-01',\n",
       "       '1960-06-01', '1960-07-01', '1960-08-01', '1960-09-01', '1960-10-01',\n",
       "       ...\n",
       "       '2018-02-01', '2018-03-01', '2018-04-01', '2018-05-01', '2018-06-01',\n",
       "       '2018-07-01', '2018-08-01', '2018-09-01', '2018-10-01', '2018-11-01'],\n",
       "      dtype='object', name='datestr', length=707)"
      ]
     },
     "execution_count": 84,
     "metadata": {},
     "output_type": "execute_result"
    }
   ],
   "source": [
    "# Now dealing with unrate\n",
    "unrate = pd.read_csv(os.path.join(\"data\", \"UNRATE vintages.csv\"))\n",
    "t = unrate.transpose()\n",
    "t.columns = t.iloc[0]\n",
    "t.columns\n",
    "#t\n",
    "#temp = t['datestr']\n",
    "#t.groupby(pd.PeriodIndex(df.columns[1:], freq='Q'), axis=1).mean()\n"
   ]
  },
  {
   "cell_type": "code",
   "execution_count": 85,
   "metadata": {},
   "outputs": [
    {
     "data": {
      "text/plain": [
       "datestr\n",
       "1960-01-01    1960-01-01\n",
       "1960-02-01    1960-02-01\n",
       "1960-03-01    1960-03-01\n",
       "1960-04-01    1960-04-01\n",
       "1960-05-01    1960-05-01\n",
       "1960-06-01    1960-06-01\n",
       "1960-07-01    1960-07-01\n",
       "1960-08-01    1960-08-01\n",
       "1960-09-01    1960-09-01\n",
       "1960-10-01    1960-10-01\n",
       "1960-11-01    1960-11-01\n",
       "1960-12-01    1960-12-01\n",
       "1961-01-01    1961-01-01\n",
       "1961-02-01    1961-02-01\n",
       "1961-03-01    1961-03-01\n",
       "1961-04-01    1961-04-01\n",
       "1961-05-01    1961-05-01\n",
       "1961-06-01    1961-06-01\n",
       "1961-07-01    1961-07-01\n",
       "1961-08-01    1961-08-01\n",
       "1961-09-01    1961-09-01\n",
       "1961-10-01    1961-10-01\n",
       "1961-11-01    1961-11-01\n",
       "1961-12-01    1961-12-01\n",
       "1962-01-01    1962-01-01\n",
       "1962-02-01    1962-02-01\n",
       "1962-03-01    1962-03-01\n",
       "1962-04-01    1962-04-01\n",
       "1962-05-01    1962-05-01\n",
       "1962-06-01    1962-06-01\n",
       "                 ...    \n",
       "2016-06-01    2016-06-01\n",
       "2016-07-01    2016-07-01\n",
       "2016-08-01    2016-08-01\n",
       "2016-09-01    2016-09-01\n",
       "2016-10-01    2016-10-01\n",
       "2016-11-01    2016-11-01\n",
       "2016-12-01    2016-12-01\n",
       "2017-01-01    2017-01-01\n",
       "2017-02-01    2017-02-01\n",
       "2017-03-01    2017-03-01\n",
       "2017-04-01    2017-04-01\n",
       "2017-05-01    2017-05-01\n",
       "2017-06-01    2017-06-01\n",
       "2017-07-01    2017-07-01\n",
       "2017-08-01    2017-08-01\n",
       "2017-09-01    2017-09-01\n",
       "2017-10-01    2017-10-01\n",
       "2017-11-01    2017-11-01\n",
       "2017-12-01    2017-12-01\n",
       "2018-01-01    2018-01-01\n",
       "2018-02-01    2018-02-01\n",
       "2018-03-01    2018-03-01\n",
       "2018-04-01    2018-04-01\n",
       "2018-05-01    2018-05-01\n",
       "2018-06-01    2018-06-01\n",
       "2018-07-01    2018-07-01\n",
       "2018-08-01    2018-08-01\n",
       "2018-09-01    2018-09-01\n",
       "2018-10-01    2018-10-01\n",
       "2018-11-01    2018-11-01\n",
       "Name: datestr, Length: 707, dtype: object"
      ]
     },
     "execution_count": 85,
     "metadata": {},
     "output_type": "execute_result"
    }
   ],
   "source": [
    "t.iloc[0]"
   ]
  },
  {
   "cell_type": "code",
   "execution_count": null,
   "metadata": {},
   "outputs": [],
   "source": []
  }
 ],
 "metadata": {
  "kernelspec": {
   "display_name": "Python 3",
   "language": "python",
   "name": "python3"
  },
  "language_info": {
   "codemirror_mode": {
    "name": "ipython",
    "version": 3
   },
   "file_extension": ".py",
   "mimetype": "text/x-python",
   "name": "python",
   "nbconvert_exporter": "python",
   "pygments_lexer": "ipython3",
   "version": "3.7.0"
  }
 },
 "nbformat": 4,
 "nbformat_minor": 2
}
