{
 "cells": [
  {
   "cell_type": "code",
   "execution_count": 1,
   "metadata": {},
   "outputs": [],
   "source": [
    "# Libraries\n",
    "# Libraries being used\\n\",\n",
    "''' To install new libraries all install commands should bei n the anaconda terminal.\n",
    "    \"Open Anaconda Prompt -> type: activate projectName -> then the install command (pip or conda)'''\n",
    "import pandas\n",
    "# pip install fredapi\n",
    "from fredapi import Fred"
   ]
  },
  {
   "cell_type": "code",
   "execution_count": 2,
   "metadata": {},
   "outputs": [],
   "source": [
    "# Loading Data sets\n",
    "fred = Fred(api_key=\"29ace72ad136847f37a6618fda6fdc75\")\n",
    "data = fred.get_series('SP500')"
   ]
  }
 ],
 "metadata": {
  "kernelspec": {
   "display_name": "Python 3",
   "language": "python",
   "name": "python3"
  },
  "language_info": {
   "codemirror_mode": {
    "name": "ipython",
    "version": 3
   },
   "file_extension": ".py",
   "mimetype": "text/x-python",
   "name": "python",
   "nbconvert_exporter": "python",
   "pygments_lexer": "ipython3",
   "version": "3.7.0"
  }
 },
 "nbformat": 4,
 "nbformat_minor": 2
}
